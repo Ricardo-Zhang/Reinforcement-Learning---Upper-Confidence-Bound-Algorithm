{
 "cells": [
  {
   "cell_type": "markdown",
   "metadata": {},
   "source": [
    "# Primal-Dual Algorithm for Constrained Stochastic Optimization"
   ]
  },
  {
   "cell_type": "code",
   "execution_count": 4,
   "metadata": {
    "collapsed": true
   },
   "outputs": [],
   "source": [
    "import numpy as np\n",
    "import matplotlib.pyplot as plt\n",
    "%matplotlib inline"
   ]
  },
  {
   "cell_type": "markdown",
   "metadata": {},
   "source": [
    "### initialize start by random and calculate primal"
   ]
  },
  {
   "cell_type": "code",
   "execution_count": 5,
   "metadata": {
    "collapsed": true
   },
   "outputs": [],
   "source": [
    "class primalDualModel:\n",
    "    def __init__(self,sysDimension):\n",
    "        self.sysDimension = sysDimension\n",
    "        self.weights = np.ones(sysDimension)/sysDimension\n",
    "        self.lambda1 = np.random.rand(1)+0.5\n",
    "        self.lambda2 = np.random.rand(1)+0.5\n",
    "        self.muList = np.random.uniform(0.5,0.9,sysDimension)\n",
    "        self.compensation = np.random.rand(sysDimension)\n",
    "        assetsRewards = np.random.rand(sysDimension,sysDimension)\n",
    "        self.assetsMean = np.mean(assetsRewards,1)\n",
    "        self.assetsCov = np.cov(assetsRewards)\n",
    "        self.c = self.weights.transpose().dot(self.assetsMean)"
   ]
  },
  {
   "cell_type": "code",
   "execution_count": 6,
   "metadata": {
    "collapsed": true
   },
   "outputs": [],
   "source": [
    "def primalDualUpdate(PDModel,stepSize):\n",
    "    PDModel.weights = PDModel.weights - stepSize*((PDModel.assetsCov+PDModel.assetsCov.T).dot(PDModel.weights)+PDModel.lambda1*PDModel.assetsMean+PDModel.lambda2*np.ones(PDModel.sysDimension)+PDModel.muList)\n",
    "    PDModel.compensation = PDModel.compensation + stepSize*(2*PDModel.muList*PDModel.compensation)\n",
    "    PDModel.lambda1 = PDModel.lambda1 + stepSize*(PDModel.weights.transpose().dot(PDModel.assetsMean)-PDModel.c)\n",
    "    PDModel.lambda2 = PDModel.lambda2 + stepSize*(sum(PDModel.weights)-1)\n",
    "    PDModel.muList = PDModel.muList + stepSize*(PDModel.weights-PDModel.compensation**2)"
   ]
  },
  {
   "cell_type": "code",
   "execution_count": 7,
   "metadata": {
    "scrolled": false
   },
   "outputs": [
    {
     "data": {
      "text/plain": [
       "[<matplotlib.lines.Line2D at 0x1185bac50>]"
      ]
     },
     "execution_count": 7,
     "metadata": {},
     "output_type": "execute_result"
    },
    {
     "data": {
      "image/png": "[encoded data removed]",
      "text/plain": [
       "<matplotlib.figure.Figure at 0x11852d550>"
      ]
     },
     "metadata": {},
     "output_type": "display_data"
    }
   ],
   "source": [
    "pdModel = primalDualModel(10)\n",
    "result = []\n",
    "for i in range(1000):\n",
    "    primalDualUpdate(pdModel,np.exp(-i-1))\n",
    "    result.append(pdModel.weights.T.dot(pdModel.assetsCov).dot(pdModel.weights))\n",
    "plt.plot(result)    "
   ]
  },
  {
   "cell_type": "code",
   "execution_count": 8,
   "metadata": {},
   "outputs": [
    {
     "data": {
      "text/plain": [
       "0.62967591854874594"
      ]
     },
     "execution_count": 8,
     "metadata": {},
     "output_type": "execute_result"
    }
   ],
   "source": [
    "sum(pdModel.weights)"
   ]
  },
  {
   "cell_type": "code",
   "execution_count": null,
   "metadata": {
    "collapsed": true
   },
   "outputs": [],
   "source": []
  }
 ],
 "metadata": {
  "kernelspec": {
   "display_name": "Python 3",
   "language": "python",
   "name": "python3"
  },
  "language_info": {
   "codemirror_mode": {
    "name": "ipython",
    "version": 3
   },
   "file_extension": ".py",
   "mimetype": "text/x-python",
   "name": "python",
   "nbconvert_exporter": "python",
   "pygments_lexer": "ipython3",
   "version": "3.6.2"
  }
 },
 "nbformat": 4,
 "nbformat_minor": 2
}
