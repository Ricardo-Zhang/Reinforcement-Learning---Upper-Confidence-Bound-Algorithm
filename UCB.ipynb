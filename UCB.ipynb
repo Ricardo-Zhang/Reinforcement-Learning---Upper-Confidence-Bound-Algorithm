{
 "cells": [
  {
   "cell_type": "markdown",
   "metadata": {},
   "source": [
    "# Upper Confidence Boundry Algorithm to Analyze Multi-Armed Bandits"
   ]
  },
  {
   "cell_type": "code",
   "execution_count": 3,
   "metadata": {
    "collapsed": true
   },
   "outputs": [],
   "source": [
    "import numpy as np\n",
    "import matplotlib.pyplot as plt\n",
    "%matplotlib inline"
   ]
  },
  {
   "cell_type": "code",
   "execution_count": 4,
   "metadata": {
    "collapsed": true
   },
   "outputs": [],
   "source": [
    "class UCBModel:\n",
    "    def __init__(self, processSpace, upperBound, explorationFactor, distributionType):\n",
    "        self.processSpace = processSpace\n",
    "        self.upperBound = upperBound\n",
    "        self.explorationFactor = explorationFactor\n",
    "        self.distributionType = distributionType\n",
    "        self.decisionTime = 0 \n",
    "        self.visitList = np.ones(self.processSpace) # count visits to each machines\n",
    "        self.costMat = [] #store all the costs for every decisions        \n",
    "        self.costAveList = np.zeros(self.processSpace)\n",
    "    \n",
    "    def randSimulation(self, index):\n",
    "        if self.distributionType is 'Bernoulli':\n",
    "            return np.random.binomial(1,(index+1)/(self.processSpace+1))\n",
    "        elif self.distributionType is 'Gaussian':\n",
    "            return np.random.normal(index+1,index+1,1)   \n",
    "        \n",
    "    def rewardSim(self,candidates):\n",
    "        costList = np.zeros(self.processSpace)\n",
    "        for i in candidates:\n",
    "            costList[i] = self.randSimulation(i)\n",
    "        self.costMat.append(costList)\n",
    "        \n",
    "    def initStep(self):\n",
    "        self.rewardSim(range(self.processSpace))\n",
    "        self.choice = self.costMat[-1].argmax()\n",
    "        self.costAveList = self.costMat[-1]\n",
    "        self.visitList[self.choice] += 1\n",
    "        self.decisionTime += self.processSpace\n",
    "        self.costAveList = self.costMat[0]\n",
    "\n",
    "    def samplingStep(self):\n",
    "        self.decisionTime += 1\n",
    "        e = self.upperBound*np.sqrt(self.explorationFactor*np.log(self.decisionTime)/self.visitList)\n",
    "        self.choice = np.argmax(self.costAveList+e)\n",
    "        self.visitList[self.choice] += 1\n",
    "        costList = np.zeros(self.processSpace)\n",
    "        costList[self.choice] = self.randSimulation(self.choice)\n",
    "        self.costMat.append(costList)\n",
    "        summedCost = np.sum(np.array(self.costMat),0)\n",
    "        self.costAveList = summedCost/self.visitList     \n",
    "        \n",
    "    def visitBoundCalculation(self):\n",
    "        b1 = 4*(self.upperBound**2)/((self.processSpace-np.arange(self.processSpace)-1)**2)\n",
    "        b2 = self.explorationFactor*np.log(self.decisionTime)\n",
    "        b3 = 3/2+1/2/(self.explorationFactor-1)\n",
    "        self.visitBound = b1*b2+b3"
   ]
  },
  {
   "cell_type": "markdown",
   "metadata": {},
   "source": [
    "## Practice with Gaussian Machines\n",
    "The i-th machine produces a Gaussian rv with mean i and std i"
   ]
  },
  {
   "cell_type": "code",
   "execution_count": 162,
   "metadata": {},
   "outputs": [
    {
     "name": "stdout",
     "output_type": "stream",
     "text": [
      "[  21.   26.   29.   32.   35.   71.   69.  126.  167.  435.]\n",
      "2022.84485084\n"
     ]
    },
    {
     "data": {
      "text/plain": [
       "<Container object of 10 artists>"
      ]
     },
     "execution_count": 162,
     "metadata": {},
     "output_type": "execute_result"
    },
    {
     "data": {
      "image/png": "[encoded data removed]",
      "text/plain": [
       "<matplotlib.figure.Figure at 0x2ef2dc668>"
      ]
     },
     "metadata": {},
     "output_type": "display_data"
    }
   ],
   "source": [
    "iterNum = 1000\n",
    "ucbModel = UCBModel(10,upperBound=20,explorationFactor=1.01,distributionType='Gaussian')\n",
    "ucbModel.initStep()\n",
    "for i in range(1000):\n",
    "    ucbModel.samplingStep()\n",
    "print(ucbModel.visitList)\n",
    "regret = ucbModel.decisionTime*10-np.sum(np.array(ucbModel.costMat))\n",
    "print(regret)\n",
    "plt.bar(range(ucbModel.processSpace),ucbModel.visitList)"
   ]
  },
  {
   "cell_type": "code",
   "execution_count": 163,
   "metadata": {},
   "outputs": [
    {
     "name": "stdout",
     "output_type": "stream",
     "text": [
      "[   168.5124971     200.17206665    250.64310746    330.02811849\n",
      "    463.66049062    679.18826659   1224.61247394   2720.25306637\n",
      "  11063.51226549             inf]\n"
     ]
    },
    {
     "name": "stderr",
     "output_type": "stream",
     "text": [
      "/Users/Ricardo/.pyenv/versions/anaconda3-5.0.0/lib/python3.6/site-packages/ipykernel_launcher.py:46: RuntimeWarning: divide by zero encountered in true_divide\n"
     ]
    }
   ],
   "source": [
    "ucbModel.visitBoundCalculation()\n",
    "print(ucbModel.visitBound-ucbModel.visitList)"
   ]
  },
  {
   "cell_type": "markdown",
   "metadata": {
    "collapsed": true
   },
   "source": [
    "## Practice with Bernoulli Machines\n",
    "The i-th Machine generates a Bernoulli rv with probability of <latex>$\\frac{i}{num-of-machines}$<latex>"
   ]
  },
  {
   "cell_type": "code",
   "execution_count": 7,
   "metadata": {},
   "outputs": [
    {
     "name": "stdout",
     "output_type": "stream",
     "text": [
      "[   8.   11.   25.   25.   19.   40.   74.  177.  631.]\n",
      "99.1\n"
     ]
    },
    {
     "data": {
      "text/plain": [
       "<Container object of 9 artists>"
      ]
     },
     "execution_count": 7,
     "metadata": {},
     "output_type": "execute_result"
    },
    {
     "data": {
      "image/png": "[encoded data removed]",
      "text/plain": [
       "<matplotlib.figure.Figure at 0x10d59da90>"
      ]
     },
     "metadata": {},
     "output_type": "display_data"
    }
   ],
   "source": [
    "iterNum = 1000\n",
    "ucbModel = UCBModel(9,upperBound=1,explorationFactor=1.01,distributionType='Bernoulli')\n",
    "ucbModel.initStep()\n",
    "for i in range(1000):\n",
    "    ucbModel.samplingStep()\n",
    "print(ucbModel.visitList)\n",
    "regret = ucbModel.decisionTime*ucbModel.processSpace/(1+ucbModel.processSpace)-np.sum(np.array(ucbModel.costMat))\n",
    "print(regret)\n",
    "plt.bar(range(ucbModel.processSpace),ucbModel.visitList)"
   ]
  },
  {
   "cell_type": "code",
   "execution_count": 6,
   "metadata": {},
   "outputs": [
    {
     "name": "stdout",
     "output_type": "stream",
     "text": [
      "813.0\n"
     ]
    }
   ],
   "source": [
    "totalCost = np.sum(np.array(ucbModel.costMat))\n",
    "print(totalCost)"
   ]
  },
  {
   "cell_type": "code",
   "execution_count": null,
   "metadata": {
    "collapsed": true
   },
   "outputs": [],
   "source": []
  }
 ],
 "metadata": {
  "kernelspec": {
   "display_name": "Python 3",
   "language": "python",
   "name": "python3"
  },
  "language_info": {
   "codemirror_mode": {
    "name": "ipython",
    "version": 3
   },
   "file_extension": ".py",
   "mimetype": "text/x-python",
   "name": "python",
   "nbconvert_exporter": "python",
   "pygments_lexer": "ipython3",
   "version": "3.6.2"
  }
 },
 "nbformat": 4,
 "nbformat_minor": 2
}
