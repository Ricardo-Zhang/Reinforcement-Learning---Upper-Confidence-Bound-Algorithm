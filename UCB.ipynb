{
 "cells": [
  {
   "cell_type": "code",
   "execution_count": 3,
   "metadata": {
    "collapsed": true
   },
   "outputs": [],
   "source": [
    "import numpy as np\n",
    "import matplotlib.pyplot as plt\n",
    "%matplotlib inline"
   ]
  },
  {
   "cell_type": "code",
   "execution_count": 212,
   "metadata": {},
   "outputs": [],
   "source": [
    "class UCB:\n",
    "    def __init__(self, choice, upperBound, totalCost):\n",
    "        self.processSpace = 10 # 10 state machine\n",
    "        self.explorationFactor = 6\n",
    "        self.decisionTime = 0 \n",
    "        self.visitList = np.ones(self.processSpace) # count visits to each machines\n",
    "        self.costMat = [] #store all the costs for every decisions\n",
    "        self.totalCost = totalCost\n",
    "        self.costAveList = np.zeros(self.processSpace)\n",
    "        self.choice = choice\n",
    "        self.upperBound = upperBound\n",
    "\n",
    "    def costSimulation(self,candidates):\n",
    "        costList = np.zeros(self.processSpace)\n",
    "        for i in candidates:\n",
    "            mean = i+1\n",
    "            std = i+1\n",
    "            costList[i] = (np.random.normal(mean,std,1))\n",
    "        return costList\n",
    "    \n",
    "    def paramInit(self):\n",
    "        initCostList = self.costSimulation(range(self.processSpace))\n",
    "        self.choice = initCostList.argmax()\n",
    "        print(self.choice)\n",
    "        self.costMat.append(initCostList)\n",
    "        self.costAveList = self.costMat[-1]\n",
    "        self.upperBound = initCostList.max()\n",
    "        self.visitList[self.choice] += 1\n",
    "        self.decisionTime += 10\n",
    "        self.totalCost += initCostList[self.choice]\n",
    "        \n",
    "    def paramUpdate(self):\n",
    "        # candidates selection with sampling\n",
    "        self.decisionTime += 1\n",
    "        try:\n",
    "            summedCost = np.sum(np.array(self.costMat),2)\n",
    "        except:\n",
    "            summedCost = self.costMat[0]\n",
    "        self.costAveList = 1/self.visitList*summedCost\n",
    "        sample = self.costAveList+self.upperBound*np.sqrt(self.explorationFactor*np.log(self.decisionTime)/self.visitList)\n",
    "        candidates = np.argwhere(sample == np.amax(sample))\n",
    "        candidates.flatten()\n",
    "        # evaluating candidates\n",
    "        costList = self.costSimulation(candidates)\n",
    "        self.choice = costList.argmax()\n",
    "        self.costMat.append(costList)\n",
    "        self.totalCost += costList[self.choice]\n",
    "        self.visitList[self.choice] += 1"
   ]
  },
  {
   "cell_type": "code",
   "execution_count": 213,
   "metadata": {},
   "outputs": [
    {
     "name": "stdout",
     "output_type": "stream",
     "text": [
      "6\n",
      "[ 170.   93.   94.   93.   95.   91.   96.   94.   91.   94.]\n",
      "6384.39466492\n"
     ]
    }
   ],
   "source": [
    "ucbModel = UCB(0,0,0)\n",
    "ucbModel.paramInit()\n",
    "for i in range(1000):\n",
    "    candidates = ucbModel.paramUpdate()\n",
    "print(ucbModel.visitList)\n",
    "print(ucbModel.totalCost)\n",
    "# ucbModel.choice"
   ]
  },
  {
   "cell_type": "code",
   "execution_count": 215,
   "metadata": {},
   "outputs": [
    {
     "name": "stdout",
     "output_type": "stream",
     "text": [
      "10181.7113198\n",
      "10478.408504\n",
      "10017.2432926\n",
      "10201.2192534\n",
      "9875.57900308\n",
      "9600.60672277\n",
      "9728.16453929\n",
      "9909.49183212\n",
      "9700.74508236\n",
      "10339.3285941\n"
     ]
    }
   ],
   "source": [
    "for i in range(10):\n",
    "    print(np.sum(np.random.normal(10,10,1000)))"
   ]
  },
  {
   "cell_type": "code",
   "execution_count": null,
   "metadata": {
    "collapsed": true
   },
   "outputs": [],
   "source": []
  }
 ],
 "metadata": {
  "kernelspec": {
   "display_name": "Python 3",
   "language": "python",
   "name": "python3"
  },
  "language_info": {
   "codemirror_mode": {
    "name": "ipython",
    "version": 3
   },
   "file_extension": ".py",
   "mimetype": "text/x-python",
   "name": "python",
   "nbconvert_exporter": "python",
   "pygments_lexer": "ipython3",
   "version": "3.6.2"
  }
 },
 "nbformat": 4,
 "nbformat_minor": 2
}
