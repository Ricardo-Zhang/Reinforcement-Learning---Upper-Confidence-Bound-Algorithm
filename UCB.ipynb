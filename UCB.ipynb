{
 "cells": [
  {
   "cell_type": "code",
   "execution_count": 3,
   "metadata": {
    "collapsed": true
   },
   "outputs": [],
   "source": [
    "import numpy as np\n",
    "import matplotlib.pyplot as plt\n",
    "%matplotlib inline"
   ]
  },
  {
   "cell_type": "code",
   "execution_count": 159,
   "metadata": {
    "collapsed": true
   },
   "outputs": [],
   "source": [
    "class UCB:\n",
    "    def __init__(self, choice, upperBound):\n",
    "        self.processSpace = 10 # 10 state machine\n",
    "        self.explorationFactor = 6\n",
    "        self.decisionTime = 0 \n",
    "        self.visitList = np.ones(self.processSpace) # count visits to each machines\n",
    "        self.costMat = [] #store all the costs for every decisions\n",
    "        self.costAveList = np.zeros(self.processSpace)\n",
    "        self.choice = choice\n",
    "        self.upperBound = upperBound\n",
    "\n",
    "    def costSimulation(self,candidates):\n",
    "        costList = np.zeros(self.processSpace)\n",
    "        for i in candidates:\n",
    "            mean = i+1\n",
    "            std = i+1\n",
    "            costList[i] = (np.random.normal(mean,std,1))\n",
    "        return costList\n",
    "    def paramInit(self):\n",
    "        initCostList = self.costSimulation(range(self.processSpace))\n",
    "        self.choice = initCostList.argmax()\n",
    "        print(self.choice)\n",
    "        self.costMat.append(initCostList)\n",
    "        self.costAveList = self.costMat[-1]\n",
    "        self.upperBound = initCostList.max()\n",
    "        self.visitList[self.choice] += 1\n",
    "        self.decisionTime += 10\n",
    "    def paramSampling(self):\n",
    "        # candidate selection\n",
    "        self.decisionTime += 1\n",
    "        try:\n",
    "            summedCost = np.sum(np.array(self.costMat),2)\n",
    "        except:\n",
    "            summedCost = self.costMat[0]\n",
    "        print(summedCost)\n",
    "        self.costAveList = 1/self.visitList*summedCost\n",
    "        sample = self.costAveList+self.upperBound*np.sqrt(self.explorationFactor*np.log(self.decisionTime)/self.visitList)\n",
    "        print(sample)\n",
    "        candidates = np.argwhere(sample == np.amax(sample))\n",
    "        candidates.flatten()\n",
    "        # candidate evaluation\n",
    "        costList = self.costSimulation(candidates)\n",
    "        print(candidates,costList)\n",
    "        self.choice = costList.argmax()\n",
    "        self.costMat.append(costList)\n",
    "\n",
    "        self.visitList[self.choice] += 1\n",
    "#         print(costList)\n",
    "        \n"
   ]
  },
  {
   "cell_type": "code",
   "execution_count": 160,
   "metadata": {},
   "outputs": [
    {
     "name": "stdout",
     "output_type": "stream",
     "text": [
      "6\n",
      "[  0.49226721   3.50305239   2.37697688   7.7204076    2.39145996\n",
      "  -0.36437601  23.16453897   9.65038815   9.09384488   6.28429382]\n",
      "[ 88.35695943  91.36774461  90.2416691   95.58509982  90.25615218\n",
      "  87.50031621  73.71198918  97.51508037  96.9585371   94.14898604]\n",
      "[[7]] [ 0.          0.          0.          0.          0.          0.          0.\n",
      "  2.90417047  0.          0.        ]\n"
     ]
    }
   ],
   "source": [
    "ucbModel = UCB(0,0)\n",
    "ucbModel.paramInit()\n",
    "candidates = ucbModel.paramSampling()\n",
    "# ucbModel.choice"
   ]
  },
  {
   "cell_type": "code",
   "execution_count": 158,
   "metadata": {},
   "outputs": [
    {
     "name": "stdout",
     "output_type": "stream",
     "text": [
      "[ 2.  1.  1.  1.  1.  1.  2.  1.  1.  1.]\n"
     ]
    }
   ],
   "source": [
    "print(ucbModel.visitList)"
   ]
  },
  {
   "cell_type": "code",
   "execution_count": null,
   "metadata": {
    "collapsed": true
   },
   "outputs": [],
   "source": []
  }
 ],
 "metadata": {
  "kernelspec": {
   "display_name": "Python 3",
   "language": "python",
   "name": "python3"
  },
  "language_info": {
   "codemirror_mode": {
    "name": "ipython",
    "version": 3
   },
   "file_extension": ".py",
   "mimetype": "text/x-python",
   "name": "python",
   "nbconvert_exporter": "python",
   "pygments_lexer": "ipython3",
   "version": "3.6.2"
  }
 },
 "nbformat": 4,
 "nbformat_minor": 2
}
