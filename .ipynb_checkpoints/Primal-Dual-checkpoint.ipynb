{
 "cells": [
  {
   "cell_type": "markdown",
   "metadata": {},
   "source": [
    "# Primal-Dual Algorithm for Constrained Stochastic Optimization"
   ]
  },
  {
   "cell_type": "code",
   "execution_count": 59,
   "metadata": {
    "collapsed": true
   },
   "outputs": [],
   "source": [
    "import numpy as np\n",
    "import matplotlib.pyplot as plt\n",
    "%matplotlib inline"
   ]
  },
  {
   "cell_type": "markdown",
   "metadata": {},
   "source": [
    "### initialize start by random and calculate primal"
   ]
  },
  {
   "cell_type": "code",
   "execution_count": 55,
   "metadata": {},
   "outputs": [],
   "source": [
    "class primalDualModel:\n",
    "    def __init__(self,sysDimension):\n",
    "        self.sysDimension = sysDimension\n",
    "        self.weights = np.ones(sysDimension)\n",
    "        self.lambda1 = np.random.rand(1)\n",
    "        self.lambda2 = np.random.rand(1)\n",
    "        self.muList = np.random.rand(sysDimension)\n",
    "        self.compensation = np.random.rand(sysDimension)\n",
    "        assetsRewards = np.random.rand(sysDimension,sysDimension)\n",
    "        self.assetsMean = np.mean(assetsRewards,1)\n",
    "        self.assetsCov = np.cov(assetsRewards)"
   ]
  },
  {
   "cell_type": "code",
   "execution_count": 56,
   "metadata": {
    "collapsed": true
   },
   "outputs": [],
   "source": [
    "def primalDualUpdate(PDModel,stepSize):\n",
    "    PDModel.weights = PDModel.weights - stepSize*(2*PDModel.assetsCov.dot(PDModel.weights)+PDModel.lambda1*PDModel.assetsMean+PDModel.lambda2*np.ones(PDModel.sysDimension)+sum(PDModel.muList))\n",
    "    PDModel.compensation = PDModel.compensation + stepSize*(PDModel.muList*PDModel.compensation)\n",
    "    PDModel.lambda1 = PDModel.lambda1 + stepSize*PDModel.weights.transpose().dot(PDModel.assetsMean)\n",
    "    PDModel.lambda2 = PDModel.lambda2 + stepSize*np.ones(PDModel.sysDimension).transpose().dot(PDModel.weights)\n",
    "    PDModel.muList = PDModel.muList + stepSize*(PDModel.weights+PDModel.compensation**2)"
   ]
  },
  {
   "cell_type": "code",
   "execution_count": 69,
   "metadata": {},
   "outputs": [],
   "source": [
    "pdModel = primalDualModel(10)\n",
    "result = []\n",
    "for i in range(100):\n",
    "    primalDualUpdate(pdModel,0.1/(i+1)**2)\n",
    "    result.append(pdModel.weights.T.dot(pdModel.assetsCov).dot(pdModel.weights))"
   ]
  },
  {
   "cell_type": "code",
   "execution_count": 70,
   "metadata": {},
   "outputs": [
    {
     "data": {
      "text/plain": [
       "[<matplotlib.lines.Line2D at 0x115b6dc18>]"
      ]
     },
     "execution_count": 70,
     "metadata": {},
     "output_type": "execute_result"
    },
    {
     "data": {
      "image/png": "[encoded data removed]",
      "text/plain": [
       "<matplotlib.figure.Figure at 0x115a48860>"
      ]
     },
     "metadata": {},
     "output_type": "display_data"
    }
   ],
   "source": [
    "plt.plot(result)"
   ]
  },
  {
   "cell_type": "code",
   "execution_count": null,
   "metadata": {
    "collapsed": true
   },
   "outputs": [],
   "source": []
  }
 ],
 "metadata": {
  "kernelspec": {
   "display_name": "Python 3",
   "language": "python",
   "name": "python3"
  },
  "language_info": {
   "codemirror_mode": {
    "name": "ipython",
    "version": 3
   },
   "file_extension": ".py",
   "mimetype": "text/x-python",
   "name": "python",
   "nbconvert_exporter": "python",
   "pygments_lexer": "ipython3",
   "version": "3.6.2"
  }
 },
 "nbformat": 4,
 "nbformat_minor": 2
}
