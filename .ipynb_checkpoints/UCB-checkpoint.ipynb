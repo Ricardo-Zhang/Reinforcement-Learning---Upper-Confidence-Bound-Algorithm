{
 "cells": [
  {
   "cell_type": "code",
   "execution_count": 74,
   "metadata": {
    "collapsed": true
   },
   "outputs": [],
   "source": [
    "import numpy as np\n",
    "import matplotlib.pyplot as plt\n",
    "%matplotlib inline"
   ]
  },
  {
   "cell_type": "code",
   "execution_count": 121,
   "metadata": {
    "collapsed": true
   },
   "outputs": [],
   "source": [
    "class UCBModel:\n",
    "    def __init__(self, processSpace, upperBound, explorationFactor):\n",
    "        self.processSpace = processSpace\n",
    "        self.upperBound = upperBound\n",
    "        self.explorationFactor = explorationFactor\n",
    "        self.decisionTime = 0 \n",
    "        self.visitList = np.ones(self.processSpace) # count visits to each machines\n",
    "        self.totalCost = 0\n",
    "        self.costMat = [] #store all the costs for every decisions        \n",
    "        self.costAveList = np.zeros(self.processSpace)\n",
    "    \n",
    "    def rewardSim(self,candidates):\n",
    "        costList = np.zeros(self.processSpace)\n",
    "        for i in candidates:\n",
    "            costList[i] = np.random.normal(i+1,i+1,1)\n",
    "        self.costMat.append(costList)\n",
    "        \n",
    "    def initStep(self):\n",
    "        self.rewardSim(range(self.processSpace))\n",
    "        self.choice = self.costMat[-1].argmax()\n",
    "        self.costAveList = self.costMat[-1]\n",
    "        self.visitList[self.choice] += 1\n",
    "        self.decisionTime += 10\n",
    "        self.totalCost += self.costMat[-1][self.choice]\n",
    "        self.costAveList = self.costMat[0]\n",
    "\n",
    "    def samplingStep(self):\n",
    "        self.decisionTime += 1\n",
    "        e = self.upperBound*np.sqrt(self.explorationFactor*np.log(self.decisionTime)/self.visitList)\n",
    "        self.choice = np.argmax(self.costAveList+e)\n",
    "        self.visitList[self.choice] += 1\n",
    "        costList = np.zeros(self.processSpace)\n",
    "        costList[self.choice] = np.random.normal(self.choice+1,self.choice+1,1)\n",
    "        self.costMat.append(costList)\n",
    "        summedCost = np.sum(np.array(self.costMat),0)\n",
    "        self.costAveList = summedCost/self.visitList     \n",
    "        \n",
    "    def visitBoundCalculation(self):\n",
    "        b1 = 4*(self.upperBound**2)/((self.processSpace-np.arange(self.processSpace)-1)**2)\n",
    "        b2 = self.explorationFactor*np.log(self.decisionTime)\n",
    "        b3 = 3/2+1/2/(self.explorationFactor-1)\n",
    "        self.visitBound = b1*b2+b3"
   ]
  },
  {
   "cell_type": "code",
   "execution_count": 122,
   "metadata": {},
   "outputs": [
    {
     "name": "stdout",
     "output_type": "stream",
     "text": [
      "[   4.    4.    3.    7.    6.   16.   18.   24.   22.  907.]\n",
      "119.647886541\n"
     ]
    },
    {
     "data": {
      "text/plain": [
       "<Container object of 10 artists>"
      ]
     },
     "execution_count": 122,
     "metadata": {},
     "output_type": "execute_result"
    },
    {
     "data": {
      "image/png": "[encoded data removed]",
      "text/plain": [
       "<matplotlib.figure.Figure at 0x2edcdd278>"
      ]
     },
     "metadata": {},
     "output_type": "display_data"
    }
   ],
   "source": [
    "iterNum = 1000\n",
    "ucbModel = UCBModel(10,1,50)\n",
    "ucbModel.initStep()\n",
    "for i in range(1000):\n",
    "    ucbModel.samplingStep()\n",
    "print(ucbModel.visitList)\n",
    "regret = ucbModel.decisionTime*10-np.sum(np.array(ucbModel.costMat))\n",
    "print(regret)\n",
    "plt.bar(range(ucbModel.processSpace),ucbModel.visitList)"
   ]
  },
  {
   "cell_type": "code",
   "execution_count": 123,
   "metadata": {},
   "outputs": [
    {
     "name": "stdout",
     "output_type": "stream",
     "text": [
      "[   14.59095867    19.12803411    26.74573718    32.94190191    50.85184896\n",
      "    71.9815242    137.23699541   323.39548457  1363.05132605            inf]\n"
     ]
    },
    {
     "name": "stderr",
     "output_type": "stream",
     "text": [
      "/Users/Ricardo/.pyenv/versions/anaconda3-5.0.0/lib/python3.6/site-packages/ipykernel_launcher.py:39: RuntimeWarning: divide by zero encountered in true_divide\n"
     ]
    }
   ],
   "source": [
    "ucbModel.visitBoundCalculation()\n",
    "print(ucbModel.visitBound-ucbModel.visitList)"
   ]
  },
  {
   "cell_type": "code",
   "execution_count": null,
   "metadata": {
    "collapsed": true
   },
   "outputs": [],
   "source": []
  }
 ],
 "metadata": {
  "kernelspec": {
   "display_name": "Python 3",
   "language": "python",
   "name": "python3"
  },
  "language_info": {
   "codemirror_mode": {
    "name": "ipython",
    "version": 3
   },
   "file_extension": ".py",
   "mimetype": "text/x-python",
   "name": "python",
   "nbconvert_exporter": "python",
   "pygments_lexer": "ipython3",
   "version": "3.6.2"
  }
 },
 "nbformat": 4,
 "nbformat_minor": 2
}
