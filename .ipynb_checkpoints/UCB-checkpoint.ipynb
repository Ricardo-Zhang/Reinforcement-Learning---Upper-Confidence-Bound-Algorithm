{
 "cells": [
  {
   "cell_type": "code",
   "execution_count": 3,
   "metadata": {
    "collapsed": true
   },
   "outputs": [],
   "source": [
    "import numpy as np\n",
    "import matplotlib.pyplot as plt\n",
    "%matplotlib inline"
   ]
  },
  {
   "cell_type": "code",
   "execution_count": 118,
   "metadata": {},
   "outputs": [],
   "source": [
    "class UCB:\n",
    "    def __init__(self, cost, choice, upperBound):\n",
    "        self.processSpace = 10 # 10 state machine\n",
    "        self.explorationFactor = 6\n",
    "        self.decisionTime = 0 \n",
    "        self.visitList = np.ones(self.processSpace) # count visits to each machines\n",
    "        self.costMat = cost #store all the costs for every decisions\n",
    "        self.costAveList = np.zeros(self.processSpace)\n",
    "        self.choice = choice\n",
    "        self.upperBound = upperBound\n",
    "\n",
    "    def costSimulation(self,candidates):\n",
    "        costList = np.zeros(self.processSpace)\n",
    "        for i in candidates:\n",
    "            mean = i+1\n",
    "            std = i+1\n",
    "            costList[i] = (np.random.normal(mean,std,1))\n",
    "        return costList\n",
    "    def paramInit(self):\n",
    "        initCostList = self.costSimulation(range(self.processSpace))\n",
    "        self.choice = initCostList.argmax()\n",
    "        self.cost = initCostList[self.choice]\n",
    "        self.costAveList[self.choice] = self.cost\n",
    "        self.upperBound = self.cost\n",
    "        self.visitList[self.choice] += 1\n",
    "        self.decisionTime += 10\n",
    "    def paramSampling(self):\n",
    "        # candidate selection\n",
    "        self.decisionTime += 1\n",
    "        sample = self.costAveList+self.upperBound*np.sqrt(self.explorationFactor*np.log(self.decisionTime)/self.visitList)\n",
    "        candidates = np.argwhere(sample == np.amax(sample))\n",
    "        candidates.flatten()\n",
    "        # candidate evaluation\n",
    "        costList = self.costSimulation(candidates)\n",
    "        self.choice = costList.argmax()\n",
    "        self.cost = initCostList[self.choice]\n",
    "        self.visitList[self.choice] += 1\n",
    "        self.costAveList[self.choice]\n",
    "        print(costList)\n",
    "        \n"
   ]
  },
  {
   "cell_type": "code",
   "execution_count": 119,
   "metadata": {},
   "outputs": [
    {
     "name": "stdout",
     "output_type": "stream",
     "text": [
      "[  0.45398463   2.58907607   4.81368909   9.92507499   1.89639053\n",
      "   8.1017542   -9.83847553  12.43008475  -1.29853283   0.        ]\n"
     ]
    }
   ],
   "source": [
    "ucbModel = UCB(0,0,0)\n",
    "ucbModel.paramInit()\n",
    "candidates = ucbModel.paramSampling()\n",
    "# ucbModel.choice"
   ]
  },
  {
   "cell_type": "code",
   "execution_count": 106,
   "metadata": {},
   "outputs": [
    {
     "name": "stdout",
     "output_type": "stream",
     "text": [
      "[0 1 2 3 4 5 7 8 9]\n"
     ]
    }
   ],
   "source": [
    "print(candidates)"
   ]
  },
  {
   "cell_type": "code",
   "execution_count": null,
   "metadata": {
    "collapsed": true
   },
   "outputs": [],
   "source": []
  }
 ],
 "metadata": {
  "kernelspec": {
   "display_name": "Python 3",
   "language": "python",
   "name": "python3"
  },
  "language_info": {
   "codemirror_mode": {
    "name": "ipython",
    "version": 3
   },
   "file_extension": ".py",
   "mimetype": "text/x-python",
   "name": "python",
   "nbconvert_exporter": "python",
   "pygments_lexer": "ipython3",
   "version": "3.6.2"
  }
 },
 "nbformat": 4,
 "nbformat_minor": 2
}
