{
 "cells": [
  {
   "cell_type": "markdown",
   "metadata": {},
   "source": [
    "# Kullback-Leibler Divergences Method to Analyze Multi-armed Bandits"
   ]
  },
  {
   "cell_type": "code",
   "execution_count": 1,
   "metadata": {
    "collapsed": true
   },
   "outputs": [],
   "source": [
    "import numpy as np\n",
    "import matplotlib.pyplot as plt\n",
    "from cvxpy import *\n",
    "%matplotlib inline"
   ]
  },
  {
   "cell_type": "code",
   "execution_count": 2,
   "metadata": {
    "collapsed": true
   },
   "outputs": [],
   "source": [
    "class KLModel:\n",
    "    def __init__(self, processSpace):\n",
    "        self.processSpace = processSpace\n",
    "        self.decisionTime = 0 \n",
    "        self.visitList = np.ones(self.processSpace) # count visits to each machines\n",
    "        self.totalCost = 0\n",
    "        self.costMat = [] #store all the costs for every decisions        \n",
    "        self.costAveList = np.zeros(self.processSpace)\n",
    "    \n",
    "    def rewardSim(self,candidates):\n",
    "        costList = np.zeros(self.processSpace)\n",
    "        for i in candidates:\n",
    "            costList[i] = np.random.binomial(1,(i+1)/(self.processSpace+1))\n",
    "        self.costMat.append(costList)\n",
    "        \n",
    "    def initStep(self):\n",
    "        self.rewardSim(range(self.processSpace))\n",
    "        self.choice = self.costMat[-1].argmax()\n",
    "        self.costAveList = self.costMat[-1]\n",
    "        self.visitList[self.choice] += 1\n",
    "        self.decisionTime += self.processSpace\n",
    "        self.totalCost += self.costMat[-1][self.choice]\n",
    "        self.costAveList = self.costMat[0]\n",
    "    \n",
    "    def boundFunc(self):\n",
    "        return np.log((np.e*self.decisionTime)*np.log(np.e*self.decisionTime)**(3))\n",
    "    \n",
    "    def updateStep(self):\n",
    "        self.decisionTime += 1\n",
    "        B_List = []\n",
    "        for i in range(self.processSpace):\n",
    "            B_List.append(self.maxCalculate(i))\n",
    "        self.choice = np.argmax(B_List)\n",
    "        self.visitList[self.choice] += 1\n",
    "        costList = np.zeros(self.processSpace)\n",
    "        costList[self.choice] = np.random.binomial(1,(self.choice+1)*0.1)\n",
    "        self.costMat.append(costList)\n",
    "        summedCost = np.sum(np.array(self.costMat),0)\n",
    "        self.costAveList = summedCost/self.visitList     \n",
    "        \n",
    "    def visitBoundCalculation(self):\n",
    "        b1 = 4*(self.upperBound**2)/((self.processSpace-np.arange(self.processSpace)-1)**2)\n",
    "        b2 = self.explorationFactor*np.log(self.decisionTime)\n",
    "        b3 = 3/2+1/2/(self.explorationFactor-1)\n",
    "        self.visitBound = b1*b2+b3\n",
    "    \n",
    "    def maxCalculate(self,i):\n",
    "        x = Variable(1)\n",
    "        objective = Minimize(x)\n",
    "        constraints = [0 <= x, x <= 1, kl_div(self.costAveList[i],x) <= self.boundFunc()]\n",
    "        prob = Problem(objective, constraints)\n",
    "        prob.solve()  # Returns the optimal value.\n",
    "        return(prob.value)"
   ]
  },
  {
   "cell_type": "code",
   "execution_count": 9,
   "metadata": {
    "scrolled": true
   },
   "outputs": [
    {
     "name": "stdout",
     "output_type": "stream",
     "text": [
      "[ 1.  1.  1.  2.  1.  1.  1.  1.  1.]\n"
     ]
    }
   ],
   "source": [
    "klmodel = KLModel(9)\n",
    "klmodel.initStep()\n",
    "print(klmodel.visitList)\n",
    "for i in range(1000):\n",
    "    klmodel.updateStep()"
   ]
  },
  {
   "cell_type": "code",
   "execution_count": 10,
   "metadata": {
    "scrolled": true
   },
   "outputs": [
    {
     "name": "stdout",
     "output_type": "stream",
     "text": [
      "[   0.    0.    0.    1.    0.   25.  131.    6.  703.]\n",
      "[   1.    1.    1.    3.    1.   38.  182.   11.  772.]\n"
     ]
    },
    {
     "data": {
      "text/plain": [
       "<Container object of 9 artists>"
      ]
     },
     "execution_count": 10,
     "metadata": {},
     "output_type": "execute_result"
    },
    {
     "data": {
      "image/png": "[encoded data removed]",
      "text/plain": [
       "<matplotlib.figure.Figure at 0x11542b860>"
      ]
     },
     "metadata": {},
     "output_type": "display_data"
    }
   ],
   "source": [
    "print(np.sum(np.array(klmodel.costMat),0))\n",
    "print(klmodel.visitList)\n",
    "plt.bar(range(klmodel.processSpace),klmodel.visitList)"
   ]
  },
  {
   "cell_type": "code",
   "execution_count": 13,
   "metadata": {},
   "outputs": [
    {
     "name": "stdout",
     "output_type": "stream",
     "text": [
      "43.0\n"
     ]
    }
   ],
   "source": [
    "regret = (klmodel.decisionTime+1)*klmodel.processSpace/(1+klmodel.processSpace)-np.sum(np.array(klmodel.costMat))\n",
    "print(regret)"
   ]
  },
  {
   "cell_type": "code",
   "execution_count": 12,
   "metadata": {},
   "outputs": [
    {
     "name": "stdout",
     "output_type": "stream",
     "text": [
      "866.0\n"
     ]
    }
   ],
   "source": [
    "totalCost = np.sum(np.array(klmodel.costMat))\n",
    "print(totalCost)"
   ]
  },
  {
   "cell_type": "code",
   "execution_count": null,
   "metadata": {
    "collapsed": true
   },
   "outputs": [],
   "source": []
  }
 ],
 "metadata": {
  "kernelspec": {
   "display_name": "Python 3",
   "language": "python",
   "name": "python3"
  },
  "language_info": {
   "codemirror_mode": {
    "name": "ipython",
    "version": 3
   },
   "file_extension": ".py",
   "mimetype": "text/x-python",
   "name": "python",
   "nbconvert_exporter": "python",
   "pygments_lexer": "ipython3",
   "version": "3.6.2"
  }
 },
 "nbformat": 4,
 "nbformat_minor": 2
}
